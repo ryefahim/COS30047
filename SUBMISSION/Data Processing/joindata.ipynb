{
 "cells": [
  {
   "cell_type": "code",
   "execution_count": null,
   "id": "29804997",
   "metadata": {},
   "outputs": [
    {
     "name": "stdout",
     "output_type": "stream",
     "text": [
      "Rows and Columns:  (17952, 3)\n",
      "Duplicate?: False\n",
      "Any missing values? : True\n",
      "Rows and Columns after dropping missing values:  (17943, 3)\n",
      "Any missing values? : False\n",
      "id       int64\n",
      "text    object\n",
      "fake     int64\n",
      "dtype: object\n"
     ]
    }
   ],
   "source": [
    "import pandas as pd\n",
    "\n",
    "df1 = pd.read_csv(r\"data/trueNews_CLEAN.csv\")\n",
    "df2 = pd.read_csv(r\"data/fakeNews_CLEAN.csv\")\n",
    "df3 = pd.read_csv(r\"data/usable/covid19_Constraint_Val_CLEAN.csv\")\n",
    "df4 = pd.read_csv(r\"data/usable/covid19_english_test_with_labels_CLEAN.csv\")\n",
    "df5 = pd.read_csv(r\"data/usable/covid19labeldataset_CLEAN.csv\")\n",
    "\n",
    "# Concatenate dataframes vertically\n",
    "joined_df = pd.concat([df1, df2, df3, df4, df5], ignore_index=True)\n",
    "\n",
    "# add id starting from 1\n",
    "joined_df.insert(0, \"id\", range(1, len(joined_df) + 1))\n",
    "\n",
    "\n",
    "#check row and columns\n",
    "print(\"Rows and Columns: \", joined_df.shape)\n",
    "\n",
    "#check duplicates\n",
    "print(\"Duplicate?:\" , joined_df.duplicated().any())\n",
    "\n",
    "#check missing values\n",
    "print(\"Any missing values? :\", joined_df.isna().any().any())\n",
    "\n",
    "\n",
    "# Remove rows with any missing values\n",
    "joined_df = joined_df.dropna().reset_index(drop=True)\n",
    "\n",
    "# Check again after cleaning\n",
    "print(\"Rows and Columns after dropping missing values: \", joined_df.shape)\n",
    "print(\"Any missing values? :\", joined_df.isna().any().any())\n",
    "\n",
    "# Reset index after dropping rows\n",
    "joined_df = joined_df.reset_index(drop=True)\n",
    "\n",
    "\n",
    "# shuffle rows for randomization\n",
    "joined_df = joined_df.sample(frac=1, random_state=42).reset_index(drop=True)\n",
    "\n",
    "\n",
    "#save data\n",
    "joined_df.to_csv(\"data/CombinedDataSet.csv\", index=False)\n",
    "\n",
    "\n",
    "\n",
    "#check data types\n",
    "print(joined_df.dtypes)\n"
   ]
  }
 ],
 "metadata": {
  "kernelspec": {
   "display_name": "Python (jupyter-env)",
   "language": "python",
   "name": "jupyter-env"
  },
  "language_info": {
   "codemirror_mode": {
    "name": "ipython",
    "version": 3
   },
   "file_extension": ".py",
   "mimetype": "text/x-python",
   "name": "python",
   "nbconvert_exporter": "python",
   "pygments_lexer": "ipython3",
   "version": "3.13.7"
  }
 },
 "nbformat": 4,
 "nbformat_minor": 5
}
